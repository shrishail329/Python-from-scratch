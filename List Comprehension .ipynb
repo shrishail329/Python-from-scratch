{
 "cells": [
  {
   "cell_type": "markdown",
   "id": "31e666fa-c2ee-4b7b-916e-ca5eb4a7136c",
   "metadata": {},
   "source": [
    "## List Comprehension \n",
    "\n",
    "Syntax of List Comprehension [expression for item in list]\n",
    "\n",
    "List comprehension is an elegant way to define and create lists based on existing lists.\n",
    "\n",
    "List comprehension is generally more compact and faster than normal functions and loops for creating list.\n",
    "\n",
    "However, we should avoid writing very long list comprehensions in one line to ensure that code is user-friendly.\n",
    "\n",
    "Remember, every list comprehension can be rewritten in for loop, but every for loop can’t be rewritten in the form of list comprehension.\n",
    "\n",
    "## List Comprehension vs For Loop in Python\n",
    "Suppose, we want to separate the letters of the word 'human' and add the letters as items of a list.\n",
    "\n",
    "The first thing that comes in mind would be using for loop."
   ]
  },
  {
   "cell_type": "code",
   "execution_count": 1,
   "id": "fa953c98-9ec9-4db7-ab9d-d8a3fb4c82d9",
   "metadata": {},
   "outputs": [
    {
     "name": "stdout",
     "output_type": "stream",
     "text": [
      "['h', 'u', 'm', 'a', 'n']\n"
     ]
    }
   ],
   "source": [
    "new_list = []\n",
    "for i in 'human':\n",
    "    new_list.append(i)\n",
    "print(new_list)\n",
    "    "
   ]
  },
  {
   "cell_type": "markdown",
   "id": "c961341a-90e8-47ed-a167-df23e7bf9395",
   "metadata": {
    "tags": []
   },
   "source": [
    "##### However, Python has an easier way to solve this issue using List Comprehension.\n",
    "\n",
    "List comprehension is an elegant way to define and create lists based on existing lists.\n",
    "\n",
    "Let’s see how the above program can be written using list comprehensions."
   ]
  },
  {
   "cell_type": "code",
   "execution_count": 2,
   "id": "1251a4bc-de6c-4e78-b7ea-13a30b706dd5",
   "metadata": {},
   "outputs": [
    {
     "data": {
      "text/plain": [
       "['h', 'u', 'm', 'a', 'n']"
      ]
     },
     "execution_count": 2,
     "metadata": {},
     "output_type": "execute_result"
    }
   ],
   "source": [
    "[i for i in 'human']"
   ]
  },
  {
   "cell_type": "markdown",
   "id": "a140f513-6df7-4863-a90d-2d98a0b557fa",
   "metadata": {},
   "source": [
    "## List Comprehensions vs Lambda functions\n",
    "List comprehensions aren’t the only way to work on lists.\n",
    "\n",
    "Various built-in functions and lambda functions can create and modify lists in less lines of code.\n",
    "\n",
    "we can seperate the 'human' by using lambda()"
   ]
  },
  {
   "cell_type": "code",
   "execution_count": 3,
   "id": "5b3034ad-9d25-44f2-94de-c7beff8114f4",
   "metadata": {},
   "outputs": [
    {
     "name": "stdout",
     "output_type": "stream",
     "text": [
      "['h', 'u', 'm', 'a', 'n']\n"
     ]
    }
   ],
   "source": [
    "lambda_list = list(map(lambda a:a,'human'))\n",
    "\n",
    "print(lambda_list)"
   ]
  },
  {
   "cell_type": "markdown",
   "id": "e9c383d8-13de-4dab-b973-b168aaaf59c2",
   "metadata": {},
   "source": [
    "### Conditionals in List Comprehension\n",
    "\n",
    "List comprehensions can utilize conditional statement to modify existing list (or other tuples).\n",
    "\n",
    "We will create list that uses mathematical operators, integers, and range()."
   ]
  },
  {
   "cell_type": "code",
   "execution_count": 6,
   "id": "ab3a6585-3ddc-4d7f-a0f7-a95f2cbe4498",
   "metadata": {},
   "outputs": [
    {
     "data": {
      "text/plain": [
       "[0, 2, 4, 6, 8, 10, 12, 14, 16, 18]"
      ]
     },
     "execution_count": 6,
     "metadata": {},
     "output_type": "execute_result"
    }
   ],
   "source": [
    "[i for i in range(20) if i%2==0]\n",
    "\n",
    "                        # or\n",
    "#for i in range(20):\n",
    "#    if i%2==0:\n",
    "#        print(i)\n",
    "\n",
    "## It will print all the even number by using list comprehension "
   ]
  },
  {
   "cell_type": "code",
   "execution_count": 8,
   "id": "28dd1c71-345e-45aa-9eba-ee64effcdcae",
   "metadata": {},
   "outputs": [
    {
     "data": {
      "text/plain": [
       "[0, 10, 20, 30]"
      ]
     },
     "execution_count": 8,
     "metadata": {},
     "output_type": "execute_result"
    }
   ],
   "source": [
    "[i for i in range(40) if i%2==0 if i%5==0]\n",
    "\n",
    "                         # or\n",
    "    \n",
    "# for i in range(20):\n",
    "#    if i%2==0:\n",
    "#        if i%5==0:\n",
    "#            print(i)"
   ]
  },
  {
   "cell_type": "markdown",
   "id": "7886221c-8c6b-458c-8582-5bb27c8dfc49",
   "metadata": {},
   "source": [
    "## Nested Loops in List Comprehension\n",
    "\n",
    "Suppose, we need to compute the transpose of a matrix that requires nested for loop.\n",
    "\n",
    "Let’s see how it is done using normal for loop first."
   ]
  },
  {
   "cell_type": "code",
   "execution_count": 9,
   "id": "af8c1cd7-a109-43f2-bd0c-9fd4ab5ecee1",
   "metadata": {},
   "outputs": [
    {
     "name": "stdout",
     "output_type": "stream",
     "text": [
      "[[1, 4], [2, 5], [3, 6], [4, 8]]\n"
     ]
    }
   ],
   "source": [
    "transposed = []\n",
    "matrix = [[1, 2, 3, 4], [4, 5, 6, 8]]\n",
    "\n",
    "for i in range(len(matrix[0])):\n",
    "    transposed_row = []\n",
    "\n",
    "    for row in matrix:\n",
    "        transposed_row.append(row[i])\n",
    "    transposed.append(transposed_row)\n",
    "\n",
    "print(transposed)"
   ]
  },
  {
   "cell_type": "code",
   "execution_count": null,
   "id": "d2f90e70-b0c1-443a-a2b2-ab76b38f9d57",
   "metadata": {},
   "outputs": [],
   "source": []
  }
 ],
 "metadata": {
  "kernelspec": {
   "display_name": "Python 3 (ipykernel)",
   "language": "python",
   "name": "python3"
  },
  "language_info": {
   "codemirror_mode": {
    "name": "ipython",
    "version": 3
   },
   "file_extension": ".py",
   "mimetype": "text/x-python",
   "name": "python",
   "nbconvert_exporter": "python",
   "pygments_lexer": "ipython3",
   "version": "3.10.6"
  }
 },
 "nbformat": 4,
 "nbformat_minor": 5
}
