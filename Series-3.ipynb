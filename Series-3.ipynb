{
 "cells": [
  {
   "cell_type": "markdown",
   "id": "66fc6559",
   "metadata": {},
   "source": [
    "# Welcome to SERIES from Scarch "
   ]
  },
  {
   "cell_type": "code",
   "execution_count": 1,
   "id": "d5a2f255",
   "metadata": {},
   "outputs": [],
   "source": [
    "import pandas as pd"
   ]
  },
  {
   "cell_type": "markdown",
   "id": "cf85e6fd",
   "metadata": {},
   "source": [
    "### Create a Series Object from Python list"
   ]
  },
  {
   "cell_type": "code",
   "execution_count": 2,
   "id": "a8945bbd",
   "metadata": {},
   "outputs": [
    {
     "data": {
      "text/plain": [
       "0     Chocolate\n",
       "1       venilla\n",
       "2    strawberry\n",
       "3    run raisin\n",
       "dtype: object"
      ]
     },
     "execution_count": 2,
     "metadata": {},
     "output_type": "execute_result"
    }
   ],
   "source": [
    "ice_cream = ['Chocolate','venilla','strawberry','run raisin']\n",
    "\n",
    "pd.Series(ice_cream)"
   ]
  },
  {
   "cell_type": "code",
   "execution_count": null,
   "id": "1a312404",
   "metadata": {},
   "outputs": [],
   "source": [
    "## datatype in object is string \n",
    "##  Each element in Order in line "
   ]
  },
  {
   "cell_type": "code",
   "execution_count": 3,
   "id": "c23e001b",
   "metadata": {},
   "outputs": [
    {
     "data": {
      "text/plain": [
       "'venilla'"
      ]
     },
     "execution_count": 3,
     "metadata": {},
     "output_type": "execute_result"
    }
   ],
   "source": [
    "pd.Series(ice_cream)[1]"
   ]
  },
  {
   "cell_type": "code",
   "execution_count": 4,
   "id": "18e01eee",
   "metadata": {},
   "outputs": [
    {
     "data": {
      "text/plain": [
       "0     4\n",
       "1     8\n",
       "2    15\n",
       "3    16\n",
       "4    23\n",
       "5    42\n",
       "dtype: int64"
      ]
     },
     "execution_count": 4,
     "metadata": {},
     "output_type": "execute_result"
    }
   ],
   "source": [
    "lottery = [4, 8, 15, 16, 23, 42]\n",
    "\n",
    "pd.Series(lottery)\n",
    "\n",
    "## dtype is integer"
   ]
  },
  {
   "cell_type": "code",
   "execution_count": 5,
   "id": "7a888236",
   "metadata": {},
   "outputs": [
    {
     "data": {
      "text/plain": [
       "0     True\n",
       "1    False\n",
       "2     True\n",
       "3     True\n",
       "4    False\n",
       "dtype: bool"
      ]
     },
     "execution_count": 5,
     "metadata": {},
     "output_type": "execute_result"
    }
   ],
   "source": [
    "registration = [True, False, True, True, False]\n",
    "\n",
    "pd.Series(registration)"
   ]
  },
  {
   "cell_type": "markdown",
   "id": "5344b012",
   "metadata": {},
   "source": [
    "## Create a Series object from a Dictionary "
   ]
  },
  {
   "cell_type": "code",
   "execution_count": 9,
   "id": "7e6e6c29",
   "metadata": {},
   "outputs": [
    {
     "name": "stdout",
     "output_type": "stream",
     "text": [
      "Orange        Yellow\n",
      "Apple          Green\n",
      "Pomgranate       Red\n",
      "dtype: object\n",
      "<bound method Series.keys of Orange        Yellow\n",
      "Apple          Green\n",
      "Pomgranate       Red\n",
      "dtype: object>\n",
      "['Yellow' 'Green' 'Red']\n"
     ]
    }
   ],
   "source": [
    "shushi = {\n",
    "    'Orange':'Yellow',\n",
    "    'Apple':'Green',\n",
    "    'Pomgranate':'Red'\n",
    "    \n",
    "}\n",
    "\n",
    "print(pd.Series(shushi))\n",
    "\n",
    "print(pd.Series(shushi).keys)\n",
    "\n",
    "print(pd.Series(shushi).values)"
   ]
  },
  {
   "cell_type": "markdown",
   "id": "8fb3c756",
   "metadata": {},
   "source": [
    "## Introduction to Methods"
   ]
  },
  {
   "cell_type": "code",
   "execution_count": 10,
   "id": "f32b4d58",
   "metadata": {},
   "outputs": [
    {
     "data": {
      "text/plain": [
       "'SHREE'"
      ]
     },
     "execution_count": 10,
     "metadata": {},
     "output_type": "execute_result"
    }
   ],
   "source": [
    "'Shree'.upper()"
   ]
  },
  {
   "cell_type": "code",
   "execution_count": 11,
   "id": "3b1f05c1",
   "metadata": {},
   "outputs": [
    {
     "data": {
      "text/plain": [
       "'shree'"
      ]
     },
     "execution_count": 11,
     "metadata": {},
     "output_type": "execute_result"
    }
   ],
   "source": [
    "'SHREE'.lower()"
   ]
  },
  {
   "cell_type": "code",
   "execution_count": 12,
   "id": "38e5c73b",
   "metadata": {},
   "outputs": [
    {
     "data": {
      "text/plain": [
       "[1, 2, 4, 5]"
      ]
     },
     "execution_count": 12,
     "metadata": {},
     "output_type": "execute_result"
    }
   ],
   "source": [
    "values = [1, 2, 4]\n",
    "values.append(5)\n",
    "values"
   ]
  },
  {
   "cell_type": "code",
   "execution_count": 13,
   "id": "45e609c4",
   "metadata": {},
   "outputs": [
    {
     "data": {
      "text/plain": [
       "0     2.00\n",
       "1    23.60\n",
       "2     1.36\n",
       "dtype: float64"
      ]
     },
     "execution_count": 13,
     "metadata": {},
     "output_type": "execute_result"
    }
   ],
   "source": [
    "prices = pd.Series([2, 23.6, 1.36])\n",
    "prices"
   ]
  },
  {
   "cell_type": "code",
   "execution_count": 14,
   "id": "c1ff0612",
   "metadata": {},
   "outputs": [
    {
     "data": {
      "text/plain": [
       "26.96"
      ]
     },
     "execution_count": 14,
     "metadata": {},
     "output_type": "execute_result"
    }
   ],
   "source": [
    "prices.sum()"
   ]
  },
  {
   "cell_type": "code",
   "execution_count": 15,
   "id": "fb3a1e39",
   "metadata": {},
   "outputs": [
    {
     "data": {
      "text/plain": [
       "64.19200000000001"
      ]
     },
     "execution_count": 15,
     "metadata": {},
     "output_type": "execute_result"
    }
   ],
   "source": [
    "prices.product()"
   ]
  },
  {
   "cell_type": "code",
   "execution_count": 16,
   "id": "692ccdce",
   "metadata": {},
   "outputs": [
    {
     "data": {
      "text/plain": [
       "8.986666666666666"
      ]
     },
     "execution_count": 16,
     "metadata": {},
     "output_type": "execute_result"
    }
   ],
   "source": [
    "prices.mean()"
   ]
  },
  {
   "cell_type": "code",
   "execution_count": 18,
   "id": "328426b1",
   "metadata": {},
   "outputs": [
    {
     "data": {
      "text/plain": [
       "12.659562920311798"
      ]
     },
     "execution_count": 18,
     "metadata": {},
     "output_type": "execute_result"
    }
   ],
   "source": [
    "prices.std()"
   ]
  },
  {
   "cell_type": "markdown",
   "id": "35b55900",
   "metadata": {},
   "source": [
    "### Introduction to Attribues "
   ]
  },
  {
   "cell_type": "code",
   "execution_count": 20,
   "id": "b72157c6",
   "metadata": {},
   "outputs": [
    {
     "data": {
      "text/plain": [
       "0       Smart\n",
       "1    Charming\n",
       "2      Humble\n",
       "3    Briliant\n",
       "dtype: object"
      ]
     },
     "execution_count": 20,
     "metadata": {},
     "output_type": "execute_result"
    }
   ],
   "source": [
    "adjective = pd.Series(['Smart','Charming','Humble','Briliant'])\n",
    "\n",
    "adjective"
   ]
  },
  {
   "cell_type": "code",
   "execution_count": 22,
   "id": "a7e6bfbb",
   "metadata": {},
   "outputs": [
    {
     "data": {
      "text/plain": [
       "4"
      ]
     },
     "execution_count": 22,
     "metadata": {},
     "output_type": "execute_result"
    }
   ],
   "source": [
    "adjective.size\n",
    "\n",
    "## Ho many element inside the series "
   ]
  },
  {
   "cell_type": "code",
   "execution_count": 25,
   "id": "136051e6",
   "metadata": {},
   "outputs": [
    {
     "data": {
      "text/plain": [
       "True"
      ]
     },
     "execution_count": 25,
     "metadata": {},
     "output_type": "execute_result"
    }
   ],
   "source": [
    "adjective.is_unique\n",
    "\n",
    "## Uniques or not "
   ]
  },
  {
   "cell_type": "code",
   "execution_count": 26,
   "id": "eaf20f7c",
   "metadata": {},
   "outputs": [
    {
     "data": {
      "text/plain": [
       "array(['Smart', 'Charming', 'Humble', 'Briliant'], dtype=object)"
      ]
     },
     "execution_count": 26,
     "metadata": {},
     "output_type": "execute_result"
    }
   ],
   "source": [
    "adjective.values"
   ]
  },
  {
   "cell_type": "code",
   "execution_count": 29,
   "id": "92c373b2",
   "metadata": {},
   "outputs": [
    {
     "data": {
      "text/plain": [
       "numpy.ndarray"
      ]
     },
     "execution_count": 29,
     "metadata": {},
     "output_type": "execute_result"
    }
   ],
   "source": [
    "type(adjective.values)"
   ]
  },
  {
   "cell_type": "code",
   "execution_count": 30,
   "id": "e04a9caa",
   "metadata": {},
   "outputs": [
    {
     "data": {
      "text/plain": [
       "RangeIndex(start=0, stop=4, step=1)"
      ]
     },
     "execution_count": 30,
     "metadata": {},
     "output_type": "execute_result"
    }
   ],
   "source": [
    "adjective.index"
   ]
  },
  {
   "cell_type": "code",
   "execution_count": 31,
   "id": "5c5aa56d",
   "metadata": {},
   "outputs": [
    {
     "data": {
      "text/plain": [
       "pandas.core.indexes.range.RangeIndex"
      ]
     },
     "execution_count": 31,
     "metadata": {},
     "output_type": "execute_result"
    }
   ],
   "source": [
    "type(adjective.index)"
   ]
  },
  {
   "cell_type": "code",
   "execution_count": 34,
   "id": "b8d8692c",
   "metadata": {},
   "outputs": [
    {
     "data": {
      "text/plain": [
       "dtype('O')"
      ]
     },
     "execution_count": 34,
     "metadata": {},
     "output_type": "execute_result"
    }
   ],
   "source": [
    "adjective.dtypes\n",
    "# Data type is 'O' = means Object"
   ]
  },
  {
   "cell_type": "markdown",
   "id": "e6023787",
   "metadata": {},
   "source": [
    "## Parameters and Arguments "
   ]
  },
  {
   "cell_type": "code",
   "execution_count": 35,
   "id": "8465eed5",
   "metadata": {},
   "outputs": [],
   "source": [
    "# Parameter - The name we give to an expected input\n",
    "# Argument - The concrete value that we provide to a parameter\n",
    "\n",
    "# Difficulty - easy, Median, Hard\n",
    "# Volume - 1 through 10\n",
    "# Subtitle - True, False"
   ]
  },
  {
   "cell_type": "code",
   "execution_count": 43,
   "id": "bdd1390c",
   "metadata": {},
   "outputs": [
    {
     "data": {
      "text/plain": [
       "Monday            Apple\n",
       "Tuesday          Orange\n",
       "Wednesday          Plum\n",
       "Thursday      Blueberry\n",
       "Friday            Grape\n",
       "Monday       watermelon\n",
       "dtype: object"
      ]
     },
     "execution_count": 43,
     "metadata": {},
     "output_type": "execute_result"
    }
   ],
   "source": [
    "fruits = ['Apple', 'Orange','Plum','Blueberry','Grape','watermelon']\n",
    "weekdays = ['Monday', 'Tuesday','Wednesday', 'Thursday','Friday','Monday']\n",
    "\n",
    "pd.Series(fruits, weekdays)\n",
    "# It considered weekdays as Index \n",
    "pd.Series(weekdays,fruits)\n",
    "\n",
    "pd.Series(data = fruits, index = weekdays)\n",
    "\n",
    "# Series allows duplicate values"
   ]
  },
  {
   "cell_type": "markdown",
   "id": "03b3bff7",
   "metadata": {},
   "source": [
    "## Import Series with the pd.read_csv Function "
   ]
  },
  {
   "cell_type": "code",
   "execution_count": 45,
   "id": "78eb9c15",
   "metadata": {},
   "outputs": [
    {
     "data": {
      "text/plain": [
       "['Great Learning Project.ipynb',\n",
       " '.config',\n",
       " 'your_pickle',\n",
       " 'Music',\n",
       " 'EDA (Exploratory Data Analysis).ipynb',\n",
       " 'W3 School Exercise (Array).ipynb',\n",
       " '.condarc',\n",
       " 'Feature Engineering.ipynb',\n",
       " 'Untitled5.ipynb',\n",
       " 'w3 School Date time .ipynb',\n",
       " 'Untitled1.ipynb',\n",
       " 'Madikeri Trip',\n",
       " 'Coursera Final Project.ipynb',\n",
       " '.DS_Store',\n",
       " '.CFUserTextEncoding',\n",
       " 'Logistic Regression.ipynb',\n",
       " '.xonshrc',\n",
       " 'Untitled3.ipynb',\n",
       " 'Coursera Final Project - Shrishail Donaj.ipynb',\n",
       " 'Untitled.ipynb',\n",
       " 'test.h5',\n",
       " '.zshrc',\n",
       " 'Trial basis.ipynb',\n",
       " 'Untitled4.ipynb',\n",
       " 'Untitled6.ipynb',\n",
       " 'Pictures',\n",
       " 'test.csv',\n",
       " 'players_data.csv',\n",
       " 'String and list.ipynb',\n",
       " 'Shrishail.ipynb',\n",
       " 'W3 School Excercise.ipynb',\n",
       " '.zsh_history',\n",
       " 'Exploratory Data Analysis (EDA).ipynb',\n",
       " 'Untitled2.ipynb',\n",
       " '.ipython',\n",
       " 'Desktop',\n",
       " 'Library',\n",
       " 'CBBO Assesment ToolKit.numbers',\n",
       " '.matplotlib',\n",
       " 'Plotly.ipynb',\n",
       " 'Black Friday EDA and Feature Eng.ipynb',\n",
       " 'Admission_model.pickle',\n",
       " 'karnatakadataset.html',\n",
       " 'new_machine_model.html',\n",
       " 'def function .ipynb',\n",
       " 'seaborn-data',\n",
       " 'def functions.ipynb',\n",
       " 'linear_reg.sav',\n",
       " 'Public',\n",
       " '.tcshrc',\n",
       " 'NumPy.ipynb',\n",
       " 'Conditionals and loops.ipynb',\n",
       " '.anaconda',\n",
       " 'Panda.ipynb',\n",
       " 'Series.ipynb',\n",
       " 'json_dump.csv',\n",
       " 'Movies',\n",
       " 'Applications',\n",
       " '100D3300',\n",
       " 'my_pickle',\n",
       " 'opt',\n",
       " '.Trash',\n",
       " 'SQL Project.ipynb',\n",
       " 'json_dumpfile.csv',\n",
       " '.ipynb_checkpoints',\n",
       " '.jupyter',\n",
       " 'Python Crash course.ipynb',\n",
       " 'Documents',\n",
       " 'Feature Engineering - Handling Categorical Variable.ipynb',\n",
       " 'test.hs',\n",
       " 'Data_Visualization.ipynb',\n",
       " 'Tuple, Sets dictionary.ipynb',\n",
       " 'IBM Corsera.ipynb',\n",
       " 'Pandas Data maniualation.ipynb',\n",
       " '.bash_profile',\n",
       " 'Series operations from beginning .ipynb',\n",
       " 'Downloads',\n",
       " '.continuum',\n",
       " 'Def function.ipynb',\n",
       " 'pandas data manipulation.ipynb',\n",
       " '.zsh_sessions',\n",
       " 'Machine Learning regression.ipynb',\n",
       " '.conda',\n",
       " 'working with loops .ipynb',\n",
       " 'Mallu']"
      ]
     },
     "execution_count": 45,
     "metadata": {},
     "output_type": "execute_result"
    }
   ],
   "source": [
    "import os\n",
    "os.listdir()"
   ]
  },
  {
   "cell_type": "code",
   "execution_count": 52,
   "id": "741c34be",
   "metadata": {},
   "outputs": [],
   "source": [
    "df = pd.read_csv('/Users/ravidonaj/Downloads/train.csv',usecols=['Name']).squeeze()\n",
    "\n",
    "# Usecol - will give the given number of columns \n",
    "# Squeeze  will convert Pandas dataFrame to Series"
   ]
  },
  {
   "cell_type": "code",
   "execution_count": 53,
   "id": "afe4209f",
   "metadata": {},
   "outputs": [
    {
     "data": {
      "text/plain": [
       "0                                Braund, Mr. Owen Harris\n",
       "1      Cumings, Mrs. John Bradley (Florence Briggs Th...\n",
       "2                                 Heikkinen, Miss. Laina\n",
       "3           Futrelle, Mrs. Jacques Heath (Lily May Peel)\n",
       "4                               Allen, Mr. William Henry\n",
       "                             ...                        \n",
       "886                                Montvila, Rev. Juozas\n",
       "887                         Graham, Miss. Margaret Edith\n",
       "888             Johnston, Miss. Catherine Helen \"Carrie\"\n",
       "889                                Behr, Mr. Karl Howell\n",
       "890                                  Dooley, Mr. Patrick\n",
       "Name: Name, Length: 891, dtype: object"
      ]
     },
     "execution_count": 53,
     "metadata": {},
     "output_type": "execute_result"
    }
   ],
   "source": [
    "df"
   ]
  },
  {
   "cell_type": "code",
   "execution_count": 55,
   "id": "46def906",
   "metadata": {},
   "outputs": [
    {
     "data": {
      "text/plain": [
       "pandas.core.series.Series"
      ]
     },
     "execution_count": 55,
     "metadata": {},
     "output_type": "execute_result"
    }
   ],
   "source": [
    "type(df)"
   ]
  },
  {
   "cell_type": "markdown",
   "id": "9dba127e",
   "metadata": {},
   "source": [
    "## The head and tail Methods on a Series "
   ]
  },
  {
   "cell_type": "code",
   "execution_count": 56,
   "id": "148910fc",
   "metadata": {},
   "outputs": [
    {
     "data": {
      "text/plain": [
       "0                              Braund, Mr. Owen Harris\n",
       "1    Cumings, Mrs. John Bradley (Florence Briggs Th...\n",
       "2                               Heikkinen, Miss. Laina\n",
       "3         Futrelle, Mrs. Jacques Heath (Lily May Peel)\n",
       "4                             Allen, Mr. William Henry\n",
       "Name: Name, dtype: object"
      ]
     },
     "execution_count": 56,
     "metadata": {},
     "output_type": "execute_result"
    }
   ],
   "source": [
    "df.head()\n",
    "\n",
    "# gives first 5 rows\n",
    "# we want to use exact number of rows then - 'df.head(10)'"
   ]
  },
  {
   "cell_type": "code",
   "execution_count": 57,
   "id": "5b28ca63",
   "metadata": {},
   "outputs": [
    {
     "data": {
      "text/plain": [
       "886                       Montvila, Rev. Juozas\n",
       "887                Graham, Miss. Margaret Edith\n",
       "888    Johnston, Miss. Catherine Helen \"Carrie\"\n",
       "889                       Behr, Mr. Karl Howell\n",
       "890                         Dooley, Mr. Patrick\n",
       "Name: Name, dtype: object"
      ]
     },
     "execution_count": 57,
     "metadata": {},
     "output_type": "execute_result"
    }
   ],
   "source": [
    "df.tail()"
   ]
  },
  {
   "cell_type": "markdown",
   "id": "c5772d48",
   "metadata": {},
   "source": [
    "### Paasing Series to Python's Build-In Function "
   ]
  },
  {
   "cell_type": "code",
   "execution_count": 67,
   "id": "31bb44f7",
   "metadata": {},
   "outputs": [
    {
     "data": {
      "text/plain": [
       "'Abbing, Mr. Anthony'"
      ]
     },
     "execution_count": 67,
     "metadata": {},
     "output_type": "execute_result"
    }
   ],
   "source": [
    "len(df)          # --> 891 rows\n",
    "type(df)         # --> type of data \n",
    "dir(df)          # --> gives list of strings\n",
    "sorted(df)       # --> sort the data alphabetically\n",
    "type(sorted(df)) #--> list\n",
    "list(df)\n",
    "dict(df)\n",
    "max(df)\n",
    "min(df)"
   ]
  },
  {
   "cell_type": "markdown",
   "id": "f0b397b8",
   "metadata": {},
   "source": [
    "### The sort_values method"
   ]
  },
  {
   "cell_type": "code",
   "execution_count": 73,
   "id": "a0069a10",
   "metadata": {},
   "outputs": [
    {
     "data": {
      "text/plain": [
       "845                      Abbing, Mr. Anthony\n",
       "746              Abbott, Mr. Rossmore Edward\n",
       "279         Abbott, Mrs. Stanton (Rosa Hunt)\n",
       "308                      Abelson, Mr. Samuel\n",
       "874    Abelson, Mrs. Samuel (Hannah Wizosky)\n",
       "Name: Name, dtype: object"
      ]
     },
     "execution_count": 73,
     "metadata": {},
     "output_type": "execute_result"
    }
   ],
   "source": [
    "df.sort_values().head()\n",
    "\n",
    "# sort_vales will sort the ascending order by alphabetical "
   ]
  },
  {
   "cell_type": "code",
   "execution_count": 89,
   "id": "5341b7b0",
   "metadata": {},
   "outputs": [
    {
     "data": {
      "text/plain": [
       "Sex\n",
       "male                van Melkebeke, Mr. Philemon\n",
       "male            van Billiard, Mr. Austin Blyler\n",
       "male                  del Carlo, Mr. Sebastiano\n",
       "male                  de Pelsmaeker, Mr. Alfons\n",
       "male                    de Mulder, Mr. Theodore\n",
       "                          ...                  \n",
       "female    Abelson, Mrs. Samuel (Hannah Wizosky)\n",
       "male                        Abelson, Mr. Samuel\n",
       "female         Abbott, Mrs. Stanton (Rosa Hunt)\n",
       "male                Abbott, Mr. Rossmore Edward\n",
       "male                        Abbing, Mr. Anthony\n",
       "Name: Name, Length: 891, dtype: object"
      ]
     },
     "execution_count": 89,
     "metadata": {},
     "output_type": "execute_result"
    }
   ],
   "source": [
    "df.sort_values(ascending=True) ## By default it will give ascending\n",
    "\n",
    "df.sort_values(ascending=False) # will give descending order "
   ]
  },
  {
   "cell_type": "markdown",
   "id": "f96dd373",
   "metadata": {},
   "source": [
    "### The sort_index Method"
   ]
  },
  {
   "cell_type": "code",
   "execution_count": 83,
   "id": "e350ab47",
   "metadata": {},
   "outputs": [],
   "source": [
    "df = pd.read_csv('/Users/ravidonaj/Downloads/train.csv',usecols=['Name','Sex'],index_col='Sex').squeeze()"
   ]
  },
  {
   "cell_type": "code",
   "execution_count": 84,
   "id": "9e584ada",
   "metadata": {},
   "outputs": [
    {
     "data": {
      "text/plain": [
       "Sex\n",
       "male                                Braund, Mr. Owen Harris\n",
       "female    Cumings, Mrs. John Bradley (Florence Briggs Th...\n",
       "female                               Heikkinen, Miss. Laina\n",
       "female         Futrelle, Mrs. Jacques Heath (Lily May Peel)\n",
       "male                               Allen, Mr. William Henry\n",
       "Name: Name, dtype: object"
      ]
     },
     "execution_count": 84,
     "metadata": {},
     "output_type": "execute_result"
    }
   ],
   "source": [
    "df.head()"
   ]
  },
  {
   "cell_type": "code",
   "execution_count": 85,
   "id": "043d86d2",
   "metadata": {},
   "outputs": [
    {
     "data": {
      "text/plain": [
       "Sex\n",
       "female    Holverson, Mrs. Alexander Oskar (Mary Aline To...\n",
       "female                                Bazzani, Miss. Albina\n",
       "female                            Shutes, Miss. Elizabeth W\n",
       "female                               Honkanen, Miss. Eliina\n",
       "female                              Newell, Miss. Madeleine\n",
       "                                ...                        \n",
       "male                              Wiklund, Mr. Jakob Alfred\n",
       "male                             Beavan, Mr. William Thomas\n",
       "male                                    Ringhini, Mr. Sante\n",
       "male                                     Skoog, Mr. Wilhelm\n",
       "male                                    Dooley, Mr. Patrick\n",
       "Name: Name, Length: 891, dtype: object"
      ]
     },
     "execution_count": 85,
     "metadata": {},
     "output_type": "execute_result"
    }
   ],
   "source": [
    "df.sort_index()"
   ]
  },
  {
   "cell_type": "markdown",
   "id": "9ac4f810",
   "metadata": {},
   "source": [
    "## Extract Series Values by Index Position"
   ]
  },
  {
   "cell_type": "code",
   "execution_count": 86,
   "id": "73e74c93",
   "metadata": {},
   "outputs": [
    {
     "data": {
      "text/plain": [
       "Sex\n",
       "male                                Braund, Mr. Owen Harris\n",
       "female    Cumings, Mrs. John Bradley (Florence Briggs Th...\n",
       "female                               Heikkinen, Miss. Laina\n",
       "female         Futrelle, Mrs. Jacques Heath (Lily May Peel)\n",
       "male                               Allen, Mr. William Henry\n",
       "Name: Name, dtype: object"
      ]
     },
     "execution_count": 86,
     "metadata": {},
     "output_type": "execute_result"
    }
   ],
   "source": [
    "df.head()"
   ]
  },
  {
   "cell_type": "code",
   "execution_count": 88,
   "id": "22257a97",
   "metadata": {},
   "outputs": [
    {
     "data": {
      "text/plain": [
       "[1, 2, 3, 4]"
      ]
     },
     "execution_count": 88,
     "metadata": {},
     "output_type": "execute_result"
    }
   ],
   "source": [
    "num = [1,2,3,4,5]\n",
    "num[:4]"
   ]
  },
  {
   "cell_type": "code",
   "execution_count": 91,
   "id": "95a39efe",
   "metadata": {},
   "outputs": [],
   "source": [
    "df = pd.read_csv('/Users/ravidonaj/Downloads/train.csv',usecols=['Name']).squeeze()"
   ]
  },
  {
   "cell_type": "code",
   "execution_count": 92,
   "id": "6e78f8dc",
   "metadata": {},
   "outputs": [
    {
     "data": {
      "text/plain": [
       "0                              Braund, Mr. Owen Harris\n",
       "1    Cumings, Mrs. John Bradley (Florence Briggs Th...\n",
       "2                               Heikkinen, Miss. Laina\n",
       "3         Futrelle, Mrs. Jacques Heath (Lily May Peel)\n",
       "4                             Allen, Mr. William Henry\n",
       "Name: Name, dtype: object"
      ]
     },
     "execution_count": 92,
     "metadata": {},
     "output_type": "execute_result"
    }
   ],
   "source": [
    "df.head()"
   ]
  },
  {
   "cell_type": "code",
   "execution_count": 97,
   "id": "561ead80",
   "metadata": {},
   "outputs": [
    {
     "data": {
      "text/plain": [
       "0                              Braund, Mr. Owen Harris\n",
       "1    Cumings, Mrs. John Bradley (Florence Briggs Th...\n",
       "2                               Heikkinen, Miss. Laina\n",
       "3         Futrelle, Mrs. Jacques Heath (Lily May Peel)\n",
       "4                             Allen, Mr. William Henry\n",
       "5                                     Moran, Mr. James\n",
       "6                              McCarthy, Mr. Timothy J\n",
       "7                       Palsson, Master. Gosta Leonard\n",
       "8    Johnson, Mrs. Oscar W (Elisabeth Vilhelmina Berg)\n",
       "9                  Nasser, Mrs. Nicholas (Adele Achem)\n",
       "Name: Name, dtype: object"
      ]
     },
     "execution_count": 97,
     "metadata": {},
     "output_type": "execute_result"
    }
   ],
   "source": [
    "df[:10]"
   ]
  },
  {
   "cell_type": "code",
   "execution_count": 101,
   "id": "a7baf215",
   "metadata": {},
   "outputs": [
    {
     "data": {
      "text/plain": [
       "875                 Najib, Miss. Adele Kiamie \"Jane\"\n",
       "876                    Gustafsson, Mr. Alfred Ossian\n",
       "877                             Petroff, Mr. Nedelio\n",
       "878                               Laleff, Mr. Kristo\n",
       "879    Potter, Mrs. Thomas Jr (Lily Alexenia Wilson)\n",
       "880     Shelley, Mrs. William (Imanita Parrish Hall)\n",
       "881                               Markun, Mr. Johann\n",
       "882                     Dahlberg, Miss. Gerda Ulrika\n",
       "883                    Banfield, Mr. Frederick James\n",
       "884                           Sutehall, Mr. Henry Jr\n",
       "885             Rice, Mrs. William (Margaret Norton)\n",
       "886                            Montvila, Rev. Juozas\n",
       "887                     Graham, Miss. Margaret Edith\n",
       "888         Johnston, Miss. Catherine Helen \"Carrie\"\n",
       "889                            Behr, Mr. Karl Howell\n",
       "890                              Dooley, Mr. Patrick\n",
       "Name: Name, dtype: object"
      ]
     },
     "execution_count": 101,
     "metadata": {},
     "output_type": "execute_result"
    }
   ],
   "source": [
    "df[875:]"
   ]
  },
  {
   "cell_type": "code",
   "execution_count": null,
   "id": "ce3a9723",
   "metadata": {},
   "outputs": [],
   "source": [
    "# single negative indexing willl not work "
   ]
  },
  {
   "cell_type": "markdown",
   "id": "b5670f9d",
   "metadata": {},
   "source": [
    "## Extract Series Values by Index Label"
   ]
  },
  {
   "cell_type": "code",
   "execution_count": 108,
   "id": "77d01d60",
   "metadata": {},
   "outputs": [
    {
     "data": {
      "text/plain": [
       "0                              Braund, Mr. Owen Harris\n",
       "1    Cumings, Mrs. John Bradley (Florence Briggs Th...\n",
       "2                               Heikkinen, Miss. Laina\n",
       "3         Futrelle, Mrs. Jacques Heath (Lily May Peel)\n",
       "4                             Allen, Mr. William Henry\n",
       "Name: Name, dtype: object"
      ]
     },
     "execution_count": 108,
     "metadata": {},
     "output_type": "execute_result"
    }
   ],
   "source": [
    "df.head()"
   ]
  },
  {
   "cell_type": "code",
   "execution_count": 109,
   "id": "4d8e83d1",
   "metadata": {},
   "outputs": [
    {
     "data": {
      "text/plain": [
       "'Braund, Mr. Owen Harris'"
      ]
     },
     "execution_count": 109,
     "metadata": {},
     "output_type": "execute_result"
    }
   ],
   "source": [
    "df[0]"
   ]
  },
  {
   "cell_type": "code",
   "execution_count": 111,
   "id": "8860d742",
   "metadata": {},
   "outputs": [
    {
     "data": {
      "text/plain": [
       "Sex\n",
       "male                                Braund, Mr. Owen Harris\n",
       "female    Cumings, Mrs. John Bradley (Florence Briggs Th...\n",
       "female                               Heikkinen, Miss. Laina\n",
       "female         Futrelle, Mrs. Jacques Heath (Lily May Peel)\n",
       "male                               Allen, Mr. William Henry\n",
       "Name: Name, dtype: object"
      ]
     },
     "execution_count": 111,
     "metadata": {},
     "output_type": "execute_result"
    }
   ],
   "source": [
    "df = pd.read_csv('/Users/ravidonaj/Downloads/train.csv',usecols=['Name','Sex'],index_col='Sex').squeeze()\n",
    "df.head()"
   ]
  },
  {
   "cell_type": "code",
   "execution_count": 115,
   "id": "0eb944dc",
   "metadata": {},
   "outputs": [
    {
     "data": {
      "text/plain": [
       "Sex\n",
       "female    Cumings, Mrs. John Bradley (Florence Briggs Th...\n",
       "female                               Heikkinen, Miss. Laina\n",
       "female         Futrelle, Mrs. Jacques Heath (Lily May Peel)\n",
       "female    Johnson, Mrs. Oscar W (Elisabeth Vilhelmina Berg)\n",
       "female                  Nasser, Mrs. Nicholas (Adele Achem)\n",
       "                                ...                        \n",
       "female         Shelley, Mrs. William (Imanita Parrish Hall)\n",
       "female                         Dahlberg, Miss. Gerda Ulrika\n",
       "female                 Rice, Mrs. William (Margaret Norton)\n",
       "female                         Graham, Miss. Margaret Edith\n",
       "female             Johnston, Miss. Catherine Helen \"Carrie\"\n",
       "Name: Name, Length: 314, dtype: object"
      ]
     },
     "execution_count": 115,
     "metadata": {},
     "output_type": "execute_result"
    }
   ],
   "source": [
    "df[['male']]\n",
    "df[['female']]"
   ]
  },
  {
   "cell_type": "code",
   "execution_count": 116,
   "id": "b3e9df09",
   "metadata": {},
   "outputs": [
    {
     "data": {
      "text/plain": [
       "Sex\n",
       "male           Braund, Mr. Owen Harris\n",
       "male          Allen, Mr. William Henry\n",
       "male                  Moran, Mr. James\n",
       "male           McCarthy, Mr. Timothy J\n",
       "male    Palsson, Master. Gosta Leonard\n",
       "                     ...              \n",
       "male     Banfield, Mr. Frederick James\n",
       "male            Sutehall, Mr. Henry Jr\n",
       "male             Montvila, Rev. Juozas\n",
       "male             Behr, Mr. Karl Howell\n",
       "male               Dooley, Mr. Patrick\n",
       "Name: Name, Length: 577, dtype: object"
      ]
     },
     "execution_count": 116,
     "metadata": {},
     "output_type": "execute_result"
    }
   ],
   "source": [
    "df[['male']]"
   ]
  },
  {
   "cell_type": "markdown",
   "id": "7c63a6c0",
   "metadata": {},
   "source": [
    "## The get Method on a Series"
   ]
  },
  {
   "cell_type": "code",
   "execution_count": 122,
   "id": "5b01a465",
   "metadata": {},
   "outputs": [
    {
     "data": {
      "text/plain": [
       "Sex\n",
       "male                                Braund, Mr. Owen Harris\n",
       "female    Cumings, Mrs. John Bradley (Florence Briggs Th...\n",
       "female                               Heikkinen, Miss. Laina\n",
       "Name: Name, dtype: object"
      ]
     },
     "execution_count": 122,
     "metadata": {},
     "output_type": "execute_result"
    }
   ],
   "source": [
    "df.head(3)"
   ]
  },
  {
   "cell_type": "code",
   "execution_count": 123,
   "id": "b660ab8b",
   "metadata": {},
   "outputs": [
    {
     "data": {
      "text/plain": [
       "'Braund, Mr. Owen Harris'"
      ]
     },
     "execution_count": 123,
     "metadata": {},
     "output_type": "execute_result"
    }
   ],
   "source": [
    "df.get(0)"
   ]
  },
  {
   "cell_type": "code",
   "execution_count": 124,
   "id": "698d03a6",
   "metadata": {},
   "outputs": [
    {
     "data": {
      "text/plain": [
       "Sex\n",
       "male           Braund, Mr. Owen Harris\n",
       "male          Allen, Mr. William Henry\n",
       "male                  Moran, Mr. James\n",
       "male           McCarthy, Mr. Timothy J\n",
       "male    Palsson, Master. Gosta Leonard\n",
       "                     ...              \n",
       "male     Banfield, Mr. Frederick James\n",
       "male            Sutehall, Mr. Henry Jr\n",
       "male             Montvila, Rev. Juozas\n",
       "male             Behr, Mr. Karl Howell\n",
       "male               Dooley, Mr. Patrick\n",
       "Name: Name, Length: 577, dtype: object"
      ]
     },
     "execution_count": 124,
     "metadata": {},
     "output_type": "execute_result"
    }
   ],
   "source": [
    "df.get('male')"
   ]
  },
  {
   "cell_type": "code",
   "execution_count": 130,
   "id": "ecc614df",
   "metadata": {},
   "outputs": [
    {
     "data": {
      "text/plain": [
       "'not exist'"
      ]
     },
     "execution_count": 130,
     "metadata": {},
     "output_type": "execute_result"
    }
   ],
   "source": [
    "df.get('shree','not exist')"
   ]
  },
  {
   "cell_type": "code",
   "execution_count": 131,
   "id": "b3d8f48b",
   "metadata": {},
   "outputs": [],
   "source": [
    "df.get('shree',None)\n",
    "# if the values does not exist in the list by default it will return None"
   ]
  },
  {
   "cell_type": "code",
   "execution_count": 134,
   "id": "4c21032e",
   "metadata": {},
   "outputs": [
    {
     "data": {
      "text/plain": [
       "'not exist'"
      ]
     },
     "execution_count": 134,
     "metadata": {},
     "output_type": "execute_result"
    }
   ],
   "source": [
    "df.get(1000,'not exist')"
   ]
  },
  {
   "cell_type": "markdown",
   "id": "8f12e8de",
   "metadata": {},
   "source": [
    "## Overwrite a Series values"
   ]
  },
  {
   "cell_type": "code",
   "execution_count": 135,
   "id": "58f54f22",
   "metadata": {},
   "outputs": [
    {
     "data": {
      "text/plain": [
       "'Braund, Mr. Owen Harris'"
      ]
     },
     "execution_count": 135,
     "metadata": {},
     "output_type": "execute_result"
    }
   ],
   "source": [
    "df[0]"
   ]
  },
  {
   "cell_type": "code",
   "execution_count": 136,
   "id": "598dc819",
   "metadata": {},
   "outputs": [],
   "source": [
    "df[0] = 'shrishail_donaj'"
   ]
  },
  {
   "cell_type": "code",
   "execution_count": 138,
   "id": "3216870c",
   "metadata": {},
   "outputs": [
    {
     "data": {
      "text/plain": [
       "Sex\n",
       "male                                        shrishail_donaj\n",
       "female    Cumings, Mrs. John Bradley (Florence Briggs Th...\n",
       "Name: Name, dtype: object"
      ]
     },
     "execution_count": 138,
     "metadata": {},
     "output_type": "execute_result"
    }
   ],
   "source": [
    "df.head(2)"
   ]
  },
  {
   "cell_type": "code",
   "execution_count": 140,
   "id": "2a366835",
   "metadata": {},
   "outputs": [],
   "source": [
    "df['male'] = 'manju_athani'"
   ]
  },
  {
   "cell_type": "code",
   "execution_count": 142,
   "id": "f27473e3",
   "metadata": {},
   "outputs": [],
   "source": [
    "df.female = 'shree'"
   ]
  },
  {
   "cell_type": "code",
   "execution_count": 143,
   "id": "823254ea",
   "metadata": {},
   "outputs": [
    {
     "data": {
      "text/plain": [
       "Sex\n",
       "male      manju_athani\n",
       "female           shree\n",
       "female           shree\n",
       "female           shree\n",
       "male      manju_athani\n",
       "Name: Name, dtype: object"
      ]
     },
     "execution_count": 143,
     "metadata": {},
     "output_type": "execute_result"
    }
   ],
   "source": [
    "df.head()"
   ]
  },
  {
   "cell_type": "markdown",
   "id": "bb210bc9",
   "metadata": {},
   "source": [
    "## The copy Method on a Series"
   ]
  },
  {
   "cell_type": "code",
   "execution_count": 149,
   "id": "ecc60104",
   "metadata": {},
   "outputs": [],
   "source": [
    "df = pd.read_csv('/Users/ravidonaj/Downloads/train.csv',usecols=['Name'])\n",
    "df_series = df.squeeze()"
   ]
  },
  {
   "cell_type": "code",
   "execution_count": 151,
   "id": "9852a3fd",
   "metadata": {},
   "outputs": [
    {
     "data": {
      "text/html": [
       "<div>\n",
       "<style scoped>\n",
       "    .dataframe tbody tr th:only-of-type {\n",
       "        vertical-align: middle;\n",
       "    }\n",
       "\n",
       "    .dataframe tbody tr th {\n",
       "        vertical-align: top;\n",
       "    }\n",
       "\n",
       "    .dataframe thead th {\n",
       "        text-align: right;\n",
       "    }\n",
       "</style>\n",
       "<table border=\"1\" class=\"dataframe\">\n",
       "  <thead>\n",
       "    <tr style=\"text-align: right;\">\n",
       "      <th></th>\n",
       "      <th>Name</th>\n",
       "    </tr>\n",
       "  </thead>\n",
       "  <tbody>\n",
       "    <tr>\n",
       "      <th>0</th>\n",
       "      <td>Braund, Mr. Owen Harris</td>\n",
       "    </tr>\n",
       "    <tr>\n",
       "      <th>1</th>\n",
       "      <td>Cumings, Mrs. John Bradley (Florence Briggs Th...</td>\n",
       "    </tr>\n",
       "    <tr>\n",
       "      <th>2</th>\n",
       "      <td>Heikkinen, Miss. Laina</td>\n",
       "    </tr>\n",
       "    <tr>\n",
       "      <th>3</th>\n",
       "      <td>Futrelle, Mrs. Jacques Heath (Lily May Peel)</td>\n",
       "    </tr>\n",
       "    <tr>\n",
       "      <th>4</th>\n",
       "      <td>Allen, Mr. William Henry</td>\n",
       "    </tr>\n",
       "  </tbody>\n",
       "</table>\n",
       "</div>"
      ],
      "text/plain": [
       "                                                Name\n",
       "0                            Braund, Mr. Owen Harris\n",
       "1  Cumings, Mrs. John Bradley (Florence Briggs Th...\n",
       "2                             Heikkinen, Miss. Laina\n",
       "3       Futrelle, Mrs. Jacques Heath (Lily May Peel)\n",
       "4                           Allen, Mr. William Henry"
      ]
     },
     "execution_count": 151,
     "metadata": {},
     "output_type": "execute_result"
    }
   ],
   "source": [
    "df.head()"
   ]
  },
  {
   "cell_type": "code",
   "execution_count": 154,
   "id": "e62f5f05",
   "metadata": {},
   "outputs": [
    {
     "data": {
      "text/plain": [
       "0                              Braund, Mr. Owen Harris\n",
       "1    Cumings, Mrs. John Bradley (Florence Briggs Th...\n",
       "2                               Heikkinen, Miss. Laina\n",
       "3         Futrelle, Mrs. Jacques Heath (Lily May Peel)\n",
       "4                             Allen, Mr. William Henry\n",
       "Name: Name, dtype: object"
      ]
     },
     "execution_count": 154,
     "metadata": {},
     "output_type": "execute_result"
    }
   ],
   "source": [
    "df_series.head()"
   ]
  },
  {
   "cell_type": "code",
   "execution_count": 155,
   "id": "80714cdd",
   "metadata": {},
   "outputs": [
    {
     "data": {
      "text/plain": [
       "'Braund, Mr. Owen Harris'"
      ]
     },
     "execution_count": 155,
     "metadata": {},
     "output_type": "execute_result"
    }
   ],
   "source": [
    "df_series[0]"
   ]
  },
  {
   "cell_type": "code",
   "execution_count": 156,
   "id": "75072c81",
   "metadata": {},
   "outputs": [],
   "source": [
    "df_series[0] = 'whatever'"
   ]
  },
  {
   "cell_type": "code",
   "execution_count": 160,
   "id": "b078849a",
   "metadata": {},
   "outputs": [
    {
     "data": {
      "text/plain": [
       "0                                             whatever\n",
       "1    Cumings, Mrs. John Bradley (Florence Briggs Th...\n",
       "2                               Heikkinen, Miss. Laina\n",
       "3         Futrelle, Mrs. Jacques Heath (Lily May Peel)\n",
       "4                             Allen, Mr. William Henry\n",
       "Name: Name, dtype: object"
      ]
     },
     "execution_count": 160,
     "metadata": {},
     "output_type": "execute_result"
    }
   ],
   "source": [
    "df_series.head()"
   ]
  },
  {
   "cell_type": "code",
   "execution_count": 159,
   "id": "30611905",
   "metadata": {},
   "outputs": [
    {
     "data": {
      "text/html": [
       "<div>\n",
       "<style scoped>\n",
       "    .dataframe tbody tr th:only-of-type {\n",
       "        vertical-align: middle;\n",
       "    }\n",
       "\n",
       "    .dataframe tbody tr th {\n",
       "        vertical-align: top;\n",
       "    }\n",
       "\n",
       "    .dataframe thead th {\n",
       "        text-align: right;\n",
       "    }\n",
       "</style>\n",
       "<table border=\"1\" class=\"dataframe\">\n",
       "  <thead>\n",
       "    <tr style=\"text-align: right;\">\n",
       "      <th></th>\n",
       "      <th>Name</th>\n",
       "    </tr>\n",
       "  </thead>\n",
       "  <tbody>\n",
       "    <tr>\n",
       "      <th>0</th>\n",
       "      <td>whatever</td>\n",
       "    </tr>\n",
       "    <tr>\n",
       "      <th>1</th>\n",
       "      <td>Cumings, Mrs. John Bradley (Florence Briggs Th...</td>\n",
       "    </tr>\n",
       "    <tr>\n",
       "      <th>2</th>\n",
       "      <td>Heikkinen, Miss. Laina</td>\n",
       "    </tr>\n",
       "    <tr>\n",
       "      <th>3</th>\n",
       "      <td>Futrelle, Mrs. Jacques Heath (Lily May Peel)</td>\n",
       "    </tr>\n",
       "    <tr>\n",
       "      <th>4</th>\n",
       "      <td>Allen, Mr. William Henry</td>\n",
       "    </tr>\n",
       "  </tbody>\n",
       "</table>\n",
       "</div>"
      ],
      "text/plain": [
       "                                                Name\n",
       "0                                           whatever\n",
       "1  Cumings, Mrs. John Bradley (Florence Briggs Th...\n",
       "2                             Heikkinen, Miss. Laina\n",
       "3       Futrelle, Mrs. Jacques Heath (Lily May Peel)\n",
       "4                           Allen, Mr. William Henry"
      ]
     },
     "execution_count": 159,
     "metadata": {},
     "output_type": "execute_result"
    }
   ],
   "source": [
    "df.head()\n",
    "\n",
    "# Here we have overwrite in the series will al;so affecting the origina;l dataFrame"
   ]
  },
  {
   "cell_type": "code",
   "execution_count": 161,
   "id": "fe4f4072",
   "metadata": {},
   "outputs": [],
   "source": [
    "df = pd.read_csv('/Users/ravidonaj/Downloads/train.csv',usecols=['Name'])\n",
    "df_series = df.squeeze().copy()"
   ]
  },
  {
   "cell_type": "code",
   "execution_count": 166,
   "id": "ebff3fb2",
   "metadata": {},
   "outputs": [],
   "source": [
    "df_series[0] = 'shree'"
   ]
  },
  {
   "cell_type": "code",
   "execution_count": 167,
   "id": "9c26e5a7",
   "metadata": {},
   "outputs": [
    {
     "data": {
      "text/plain": [
       "0                                                shree\n",
       "1    Cumings, Mrs. John Bradley (Florence Briggs Th...\n",
       "2                               Heikkinen, Miss. Laina\n",
       "3         Futrelle, Mrs. Jacques Heath (Lily May Peel)\n",
       "4                             Allen, Mr. William Henry\n",
       "Name: Name, dtype: object"
      ]
     },
     "execution_count": 167,
     "metadata": {},
     "output_type": "execute_result"
    }
   ],
   "source": [
    "df_series.head()\n",
    "# Chnages in the series but not in the Original dataFrame"
   ]
  },
  {
   "cell_type": "code",
   "execution_count": 179,
   "id": "0801b647",
   "metadata": {},
   "outputs": [
    {
     "data": {
      "text/html": [
       "<div>\n",
       "<style scoped>\n",
       "    .dataframe tbody tr th:only-of-type {\n",
       "        vertical-align: middle;\n",
       "    }\n",
       "\n",
       "    .dataframe tbody tr th {\n",
       "        vertical-align: top;\n",
       "    }\n",
       "\n",
       "    .dataframe thead th {\n",
       "        text-align: right;\n",
       "    }\n",
       "</style>\n",
       "<table border=\"1\" class=\"dataframe\">\n",
       "  <thead>\n",
       "    <tr style=\"text-align: right;\">\n",
       "      <th></th>\n",
       "      <th>Name</th>\n",
       "      <th>0</th>\n",
       "    </tr>\n",
       "  </thead>\n",
       "  <tbody>\n",
       "    <tr>\n",
       "      <th>0</th>\n",
       "      <td>Braund, Mr. Owen Harris</td>\n",
       "      <td>shree</td>\n",
       "    </tr>\n",
       "    <tr>\n",
       "      <th>1</th>\n",
       "      <td>Cumings, Mrs. John Bradley (Florence Briggs Th...</td>\n",
       "      <td>shree</td>\n",
       "    </tr>\n",
       "    <tr>\n",
       "      <th>2</th>\n",
       "      <td>Heikkinen, Miss. Laina</td>\n",
       "      <td>shree</td>\n",
       "    </tr>\n",
       "    <tr>\n",
       "      <th>3</th>\n",
       "      <td>Futrelle, Mrs. Jacques Heath (Lily May Peel)</td>\n",
       "      <td>shree</td>\n",
       "    </tr>\n",
       "    <tr>\n",
       "      <th>4</th>\n",
       "      <td>Allen, Mr. William Henry</td>\n",
       "      <td>shree</td>\n",
       "    </tr>\n",
       "  </tbody>\n",
       "</table>\n",
       "</div>"
      ],
      "text/plain": [
       "                                                Name      0\n",
       "0                            Braund, Mr. Owen Harris  shree\n",
       "1  Cumings, Mrs. John Bradley (Florence Briggs Th...  shree\n",
       "2                             Heikkinen, Miss. Laina  shree\n",
       "3       Futrelle, Mrs. Jacques Heath (Lily May Peel)  shree\n",
       "4                           Allen, Mr. William Henry  shree"
      ]
     },
     "execution_count": 179,
     "metadata": {},
     "output_type": "execute_result"
    }
   ],
   "source": [
    "df.head()"
   ]
  },
  {
   "cell_type": "markdown",
   "id": "bbb4b111",
   "metadata": {},
   "source": [
    "## Math Methods on Series Objects"
   ]
  },
  {
   "cell_type": "code",
   "execution_count": 184,
   "id": "ddd70ec0",
   "metadata": {},
   "outputs": [],
   "source": [
    "df = pd.read_csv('/Users/ravidonaj/Downloads/train.csv',usecols=['Fare']).squeeze()"
   ]
  },
  {
   "cell_type": "code",
   "execution_count": 185,
   "id": "a9c01511",
   "metadata": {},
   "outputs": [
    {
     "data": {
      "text/plain": [
       "0     7.2500\n",
       "1    71.2833\n",
       "2     7.9250\n",
       "3    53.1000\n",
       "4     8.0500\n",
       "Name: Fare, dtype: float64"
      ]
     },
     "execution_count": 185,
     "metadata": {},
     "output_type": "execute_result"
    }
   ],
   "source": [
    "df.head()"
   ]
  },
  {
   "cell_type": "code",
   "execution_count": 195,
   "id": "93a7f4be",
   "metadata": {},
   "outputs": [
    {
     "data": {
      "text/plain": [
       "0    8.05\n",
       "Name: Fare, dtype: float64"
      ]
     },
     "execution_count": 195,
     "metadata": {},
     "output_type": "execute_result"
    }
   ],
   "source": [
    "df.sum()\n",
    "df.count()\n",
    "df.mean()\n",
    "df.product()\n",
    "df.std()\n",
    "df.min()\n",
    "df.max()\n",
    "df.median()\n",
    "df.mode()"
   ]
  },
  {
   "cell_type": "code",
   "execution_count": 198,
   "id": "c4b8e6c0",
   "metadata": {},
   "outputs": [
    {
     "data": {
      "text/plain": [
       "count    891.000000\n",
       "mean      32.204208\n",
       "std       49.693429\n",
       "min        0.000000\n",
       "25%        7.910400\n",
       "50%       14.454200\n",
       "75%       31.000000\n",
       "max      512.329200\n",
       "Name: Fare, dtype: float64"
      ]
     },
     "execution_count": 198,
     "metadata": {},
     "output_type": "execute_result"
    }
   ],
   "source": [
    "df.describe()"
   ]
  },
  {
   "cell_type": "markdown",
   "id": "b5328256",
   "metadata": {},
   "source": [
    "## Broadcasting"
   ]
  },
  {
   "cell_type": "code",
   "execution_count": 199,
   "id": "9a0c191f",
   "metadata": {},
   "outputs": [
    {
     "data": {
      "text/plain": [
       "0     7.2500\n",
       "1    71.2833\n",
       "2     7.9250\n",
       "3    53.1000\n",
       "4     8.0500\n",
       "Name: Fare, dtype: float64"
      ]
     },
     "execution_count": 199,
     "metadata": {},
     "output_type": "execute_result"
    }
   ],
   "source": [
    "df.head()"
   ]
  },
  {
   "cell_type": "code",
   "execution_count": 200,
   "id": "81dba3fb",
   "metadata": {},
   "outputs": [
    {
     "data": {
      "text/plain": [
       "0      17.2500\n",
       "1      81.2833\n",
       "2      17.9250\n",
       "3      63.1000\n",
       "4      18.0500\n",
       "        ...   \n",
       "886    23.0000\n",
       "887    40.0000\n",
       "888    33.4500\n",
       "889    40.0000\n",
       "890    17.7500\n",
       "Name: Fare, Length: 891, dtype: float64"
      ]
     },
     "execution_count": 200,
     "metadata": {},
     "output_type": "execute_result"
    }
   ],
   "source": [
    "df+10\n",
    "# add 10 to every element in the series"
   ]
  },
  {
   "cell_type": "code",
   "execution_count": 201,
   "id": "3852dad5",
   "metadata": {},
   "outputs": [
    {
     "data": {
      "text/plain": [
       "0       0.2500\n",
       "1      64.2833\n",
       "2       0.9250\n",
       "3      46.1000\n",
       "4       1.0500\n",
       "        ...   \n",
       "886     6.0000\n",
       "887    23.0000\n",
       "888    16.4500\n",
       "889    23.0000\n",
       "890     0.7500\n",
       "Name: Fare, Length: 891, dtype: float64"
      ]
     },
     "execution_count": 201,
     "metadata": {},
     "output_type": "execute_result"
    }
   ],
   "source": [
    "df-7"
   ]
  },
  {
   "cell_type": "code",
   "execution_count": 204,
   "id": "ac9639e7",
   "metadata": {},
   "outputs": [
    {
     "data": {
      "text/plain": [
       "0       14.5000\n",
       "1      142.5666\n",
       "2       15.8500\n",
       "3      106.2000\n",
       "4       16.1000\n",
       "         ...   \n",
       "886     26.0000\n",
       "887     60.0000\n",
       "888     46.9000\n",
       "889     60.0000\n",
       "890     15.5000\n",
       "Name: Fare, Length: 891, dtype: float64"
      ]
     },
     "execution_count": 204,
     "metadata": {},
     "output_type": "execute_result"
    }
   ],
   "source": [
    "df*2"
   ]
  },
  {
   "cell_type": "code",
   "execution_count": 207,
   "id": "0599c887",
   "metadata": {},
   "outputs": [
    {
     "data": {
      "text/plain": [
       "0      18.2500\n",
       "1      82.2833\n",
       "2      18.9250\n",
       "3      64.1000\n",
       "4      19.0500\n",
       "        ...   \n",
       "886    24.0000\n",
       "887    41.0000\n",
       "888    34.4500\n",
       "889    41.0000\n",
       "890    18.7500\n",
       "Name: Fare, Length: 891, dtype: float64"
      ]
     },
     "execution_count": 207,
     "metadata": {},
     "output_type": "execute_result"
    }
   ],
   "source": [
    "df.add(11)"
   ]
  },
  {
   "cell_type": "markdown",
   "id": "adf4eb61",
   "metadata": {},
   "source": [
    "## The value_count Method"
   ]
  },
  {
   "cell_type": "code",
   "execution_count": 211,
   "id": "208feff9",
   "metadata": {},
   "outputs": [
    {
     "data": {
      "text/plain": [
       "8.0500     43\n",
       "13.0000    42\n",
       "7.8958     38\n",
       "7.7500     34\n",
       "26.0000    31\n",
       "10.5000    24\n",
       "7.9250     18\n",
       "7.7750     16\n",
       "7.2292     15\n",
       "0.0000     15\n",
       "Name: Fare, dtype: int64"
      ]
     },
     "execution_count": 211,
     "metadata": {},
     "output_type": "execute_result"
    }
   ],
   "source": [
    "df.value_counts().head(10)\n",
    "\n",
    "# number of times a values is occured "
   ]
  },
  {
   "cell_type": "code",
   "execution_count": 214,
   "id": "4c2ccabb",
   "metadata": {},
   "outputs": [
    {
     "data": {
      "text/plain": [
       "10.5167     2\n",
       "22.0250     2\n",
       "15.0500     2\n",
       "59.4000     2\n",
       "28.7125     2\n",
       "           ..\n",
       "26.0000    62\n",
       "7.7500     68\n",
       "7.8958     76\n",
       "13.0000    84\n",
       "8.0500     86\n",
       "Name: Fare, Length: 248, dtype: int64"
      ]
     },
     "execution_count": 214,
     "metadata": {},
     "output_type": "execute_result"
    }
   ],
   "source": [
    "df.value_counts(ascending=True)*2"
   ]
  },
  {
   "cell_type": "markdown",
   "id": "61dfc277",
   "metadata": {},
   "source": [
    "## The apply Method"
   ]
  },
  {
   "cell_type": "markdown",
   "id": "93eb2478",
   "metadata": {},
   "source": [
    "It takes a function as an input and applies this function to an entire DataFrame. "
   ]
  },
  {
   "cell_type": "code",
   "execution_count": 234,
   "id": "2f0a4ca7",
   "metadata": {},
   "outputs": [
    {
     "data": {
      "text/plain": [
       "Age\n",
       "22.0                              Braund, Mr. Owen Harris\n",
       "38.0    Cumings, Mrs. John Bradley (Florence Briggs Th...\n",
       "26.0                               Heikkinen, Miss. Laina\n",
       "35.0         Futrelle, Mrs. Jacques Heath (Lily May Peel)\n",
       "35.0                             Allen, Mr. William Henry\n",
       "Name: Name, dtype: object"
      ]
     },
     "execution_count": 234,
     "metadata": {},
     "output_type": "execute_result"
    }
   ],
   "source": [
    "df = pd.read_csv('/Users/ravidonaj/Downloads/train.csv',usecols=['Name','Age'],index_col='Age').squeeze()\n",
    "df.head()"
   ]
  },
  {
   "cell_type": "code",
   "execution_count": 235,
   "id": "3d69832b",
   "metadata": {},
   "outputs": [
    {
     "data": {
      "text/plain": [
       "22"
      ]
     },
     "execution_count": 235,
     "metadata": {},
     "output_type": "execute_result"
    }
   ],
   "source": [
    "len('Braund, Mr. Owen Harri')"
   ]
  },
  {
   "cell_type": "markdown",
   "id": "37d1d0c1",
   "metadata": {},
   "source": [
    "## The map Method"
   ]
  },
  {
   "cell_type": "markdown",
   "id": "0c344c9b",
   "metadata": {},
   "source": [
    "map() when passed a dictionary/Series will map elements based on the keys in that dictionary/Series. Missing values will be recorded as NaN in the output."
   ]
  },
  {
   "cell_type": "code",
   "execution_count": null,
   "id": "ed7dca3e",
   "metadata": {},
   "outputs": [],
   "source": []
  }
 ],
 "metadata": {
  "kernelspec": {
   "display_name": "Python 3 (ipykernel)",
   "language": "python",
   "name": "python3"
  },
  "language_info": {
   "codemirror_mode": {
    "name": "ipython",
    "version": 3
   },
   "file_extension": ".py",
   "mimetype": "text/x-python",
   "name": "python",
   "nbconvert_exporter": "python",
   "pygments_lexer": "ipython3",
   "version": "3.9.12"
  }
 },
 "nbformat": 4,
 "nbformat_minor": 5
}
