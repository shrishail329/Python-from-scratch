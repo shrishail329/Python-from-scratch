{
 "cells": [
  {
   "cell_type": "markdown",
   "id": "e88eed4b",
   "metadata": {},
   "source": [
    "# Hello Welcome to Date Time Module"
   ]
  },
  {
   "cell_type": "code",
   "execution_count": 5,
   "id": "d1ce3c9e",
   "metadata": {},
   "outputs": [],
   "source": [
    "import pandas as pd\n",
    "import datetime as dt"
   ]
  },
  {
   "cell_type": "markdown",
   "id": "c5d13fc8",
   "metadata": {},
   "source": [
    "## Review pf Python's datetime Module\n",
    "\n",
    "datetime in Python is the combination between dates and times. The attributes of this class are similar to both date and separate classes. These attributes include day, month, year, minute, second, microsecond, hour, and tzinfo."
   ]
  },
  {
   "cell_type": "code",
   "execution_count": 7,
   "id": "b7765a8c",
   "metadata": {},
   "outputs": [],
   "source": [
    "someday = dt.date(2016,2,25)"
   ]
  },
  {
   "cell_type": "code",
   "execution_count": 8,
   "id": "4d4771d8",
   "metadata": {},
   "outputs": [
    {
     "data": {
      "text/plain": [
       "2016"
      ]
     },
     "execution_count": 8,
     "metadata": {},
     "output_type": "execute_result"
    }
   ],
   "source": [
    "someday.year"
   ]
  },
  {
   "cell_type": "code",
   "execution_count": 9,
   "id": "98ce63e9",
   "metadata": {},
   "outputs": [
    {
     "data": {
      "text/plain": [
       "2"
      ]
     },
     "execution_count": 9,
     "metadata": {},
     "output_type": "execute_result"
    }
   ],
   "source": [
    "someday.month"
   ]
  },
  {
   "cell_type": "code",
   "execution_count": 10,
   "id": "412d4113",
   "metadata": {},
   "outputs": [
    {
     "data": {
      "text/plain": [
       "25"
      ]
     },
     "execution_count": 10,
     "metadata": {},
     "output_type": "execute_result"
    }
   ],
   "source": [
    "someday.day"
   ]
  },
  {
   "cell_type": "code",
   "execution_count": 11,
   "id": "642e8408",
   "metadata": {},
   "outputs": [
    {
     "data": {
      "text/plain": [
       "datetime.datetime(2016, 2, 25, 0, 0)"
      ]
     },
     "execution_count": 11,
     "metadata": {},
     "output_type": "execute_result"
    }
   ],
   "source": [
    "dt.datetime(2016,2,25)\n",
    "\n",
    "# It will take Hour,Minute, and seconds along with date component"
   ]
  },
  {
   "cell_type": "code",
   "execution_count": 12,
   "id": "33a415f3",
   "metadata": {},
   "outputs": [
    {
     "data": {
      "text/plain": [
       "datetime.datetime(2016, 2, 25, 6, 58, 26)"
      ]
     },
     "execution_count": 12,
     "metadata": {},
     "output_type": "execute_result"
    }
   ],
   "source": [
    "dt.datetime(2016,2,25,6,58,26)"
   ]
  },
  {
   "cell_type": "code",
   "execution_count": 13,
   "id": "5d471ba9",
   "metadata": {},
   "outputs": [],
   "source": [
    "sometime = dt.datetime(2016,2,25,6,58,26)"
   ]
  },
  {
   "cell_type": "code",
   "execution_count": 19,
   "id": "9ce34082",
   "metadata": {},
   "outputs": [
    {
     "data": {
      "text/plain": [
       "26"
      ]
     },
     "execution_count": 19,
     "metadata": {},
     "output_type": "execute_result"
    }
   ],
   "source": [
    "sometime.year\n",
    "sometime.month\n",
    "sometime.day\n",
    "sometime.hour\n",
    "sometime.minute\n",
    "sometime.second"
   ]
  },
  {
   "cell_type": "markdown",
   "id": "0cd2a0a3",
   "metadata": {},
   "source": [
    "## The pandas Timestamp Object\n",
    "\n",
    "Timestamp is the date and time of occurrence of an event. In Python we can get the timestamp of an event to an accuracy of milliseconds."
   ]
  },
  {
   "cell_type": "code",
   "execution_count": 20,
   "id": "939a23cb",
   "metadata": {},
   "outputs": [
    {
     "data": {
      "text/plain": [
       "Timestamp('2015-02-20 00:00:00')"
      ]
     },
     "execution_count": 20,
     "metadata": {},
     "output_type": "execute_result"
    }
   ],
   "source": [
    "pd.Timestamp('2015-02-20')"
   ]
  },
  {
   "cell_type": "code",
   "execution_count": 22,
   "id": "0f3385c5",
   "metadata": {},
   "outputs": [
    {
     "data": {
      "text/plain": [
       "Timestamp('2015-01-20 00:00:00')"
      ]
     },
     "execution_count": 22,
     "metadata": {},
     "output_type": "execute_result"
    }
   ],
   "source": [
    "pd.Timestamp('2015/01/20')"
   ]
  },
  {
   "cell_type": "code",
   "execution_count": 23,
   "id": "c9a9c90e",
   "metadata": {},
   "outputs": [
    {
     "data": {
      "text/plain": [
       "Timestamp('2015-02-21 00:00:00')"
      ]
     },
     "execution_count": 23,
     "metadata": {},
     "output_type": "execute_result"
    }
   ],
   "source": [
    "pd.Timestamp('2015.02.21')"
   ]
  },
  {
   "cell_type": "code",
   "execution_count": 24,
   "id": "e7dde118",
   "metadata": {},
   "outputs": [
    {
     "data": {
      "text/plain": [
       "Timestamp('2022-01-02 00:00:00')"
      ]
     },
     "execution_count": 24,
     "metadata": {},
     "output_type": "execute_result"
    }
   ],
   "source": [
    "pd.Timestamp('01-02-2022')"
   ]
  },
  {
   "cell_type": "code",
   "execution_count": 25,
   "id": "42d56a50",
   "metadata": {},
   "outputs": [
    {
     "name": "stderr",
     "output_type": "stream",
     "text": [
      "/Users/ravidonaj/opt/anaconda3/lib/python3.9/site-packages/IPython/core/interactiveshell.py:3106: UserWarning: Parsing '19/12/2012' in DD/MM/YYYY format. Provide format or specify infer_datetime_format=True for consistent parsing.\n",
      "  has_raised = await self.run_ast_nodes(code_ast.body, cell_name,\n"
     ]
    },
    {
     "data": {
      "text/plain": [
       "Timestamp('2012-12-19 00:00:00')"
      ]
     },
     "execution_count": 25,
     "metadata": {},
     "output_type": "execute_result"
    }
   ],
   "source": [
    "pd.Timestamp('19/12/2012')"
   ]
  },
  {
   "cell_type": "code",
   "execution_count": 26,
   "id": "8cf031bf",
   "metadata": {},
   "outputs": [
    {
     "data": {
      "text/plain": [
       "Timestamp('2012-04-03 00:00:00')"
      ]
     },
     "execution_count": 26,
     "metadata": {},
     "output_type": "execute_result"
    }
   ],
   "source": [
    "pd.Timestamp('4/3/2012')"
   ]
  },
  {
   "cell_type": "code",
   "execution_count": 27,
   "id": "1efc51f8",
   "metadata": {},
   "outputs": [
    {
     "data": {
      "text/plain": [
       "Timestamp('2012-12-19 08:35:28')"
      ]
     },
     "execution_count": 27,
     "metadata": {},
     "output_type": "execute_result"
    }
   ],
   "source": [
    "pd.Timestamp('19/12/2012 08:35:28')"
   ]
  },
  {
   "cell_type": "code",
   "execution_count": 28,
   "id": "ff792c7d",
   "metadata": {},
   "outputs": [
    {
     "data": {
      "text/plain": [
       "Timestamp('2012-12-19 18:13:58')"
      ]
     },
     "execution_count": 28,
     "metadata": {},
     "output_type": "execute_result"
    }
   ],
   "source": [
    "pd.Timestamp('19/12/2012 6:13:58 PM')\n",
    "\n",
    "# It convert the Train timings autometically"
   ]
  },
  {
   "cell_type": "markdown",
   "id": "befa3db8",
   "metadata": {},
   "source": [
    "## The pandas DateTimeIndex Object"
   ]
  },
  {
   "cell_type": "code",
   "execution_count": 29,
   "id": "613829d6",
   "metadata": {},
   "outputs": [
    {
     "data": {
      "text/plain": [
       "DatetimeIndex(['2019-06-22', '2018-08-21', '2017-08-20'], dtype='datetime64[ns]', freq=None)"
      ]
     },
     "execution_count": 29,
     "metadata": {},
     "output_type": "execute_result"
    }
   ],
   "source": [
    "dates = ['2019/06/22','2018/08/21','2017/08/20']\n",
    "pd.DatetimeIndex(dates)"
   ]
  },
  {
   "cell_type": "code",
   "execution_count": 31,
   "id": "f4674932",
   "metadata": {},
   "outputs": [],
   "source": [
    "dates = [dt.datetime(2012,12,20),dt.datetime(2013,12,21),dt.datetime(2014,12,22)]\n",
    "dtIndex = pd.DatetimeIndex(dates)"
   ]
  },
  {
   "cell_type": "code",
   "execution_count": 32,
   "id": "a895a9c1",
   "metadata": {},
   "outputs": [
    {
     "data": {
      "text/plain": [
       "DatetimeIndex(['2012-12-20', '2013-12-21', '2014-12-22'], dtype='datetime64[ns]', freq=None)"
      ]
     },
     "execution_count": 32,
     "metadata": {},
     "output_type": "execute_result"
    }
   ],
   "source": [
    "dtIndex"
   ]
  },
  {
   "cell_type": "code",
   "execution_count": 33,
   "id": "038e35ca",
   "metadata": {},
   "outputs": [
    {
     "data": {
      "text/plain": [
       "2012-12-20    1000\n",
       "2013-12-21    2000\n",
       "2014-12-22    3000\n",
       "dtype: int64"
      ]
     },
     "execution_count": 33,
     "metadata": {},
     "output_type": "execute_result"
    }
   ],
   "source": [
    "values = [1000,2000,3000]\n",
    "pd.Series(data = values,index= dtIndex)\n",
    "\n",
    "# here we have assigned the datetime to the index in the Series"
   ]
  },
  {
   "cell_type": "markdown",
   "id": "fce6f36f",
   "metadata": {},
   "source": [
    "## The pd.to_datetime() Method\n",
    "\n",
    "Convert argument to datetime."
   ]
  },
  {
   "cell_type": "code",
   "execution_count": 41,
   "id": "fe56449b",
   "metadata": {},
   "outputs": [
    {
     "name": "stderr",
     "output_type": "stream",
     "text": [
      "/var/folders/w3/lxz1zjzs72b6r55gp06_by880000gn/T/ipykernel_1409/4276125392.py:1: UserWarning: Parsing '20/10/1997' in DD/MM/YYYY format. Provide format or specify infer_datetime_format=True for consistent parsing.\n",
      "  pd.to_datetime(['20/10/1997','08-01-1996','23.10.1991'])\n",
      "/var/folders/w3/lxz1zjzs72b6r55gp06_by880000gn/T/ipykernel_1409/4276125392.py:1: UserWarning: Parsing '23.10.1991' in DD/MM/YYYY format. Provide format or specify infer_datetime_format=True for consistent parsing.\n",
      "  pd.to_datetime(['20/10/1997','08-01-1996','23.10.1991'])\n"
     ]
    },
    {
     "data": {
      "text/plain": [
       "DatetimeIndex(['2012-12-02', '2015-12-21', '2016-01-01', '1996-07-04'], dtype='datetime64[ns]', freq=None)"
      ]
     },
     "execution_count": 41,
     "metadata": {},
     "output_type": "execute_result"
    }
   ],
   "source": [
    "pd.to_datetime(['20/10/1997','08-01-1996','23.10.1991'])\n",
    "pd.to_datetime('2022/11/10')\n",
    "pd.to_datetime(dt.datetime(2016,1,16))\n",
    "pd.to_datetime(['2012/12/02','2015-12-21','2016','July 4th, 1996'])"
   ]
  },
  {
   "cell_type": "code",
   "execution_count": 45,
   "id": "12e2e6dd",
   "metadata": {},
   "outputs": [],
   "source": [
    "times = pd.Series(['2012/12/02','2015-12-21','2016','July 4th, 1996'])\n",
    "\n",
    "# its data type is object, because it is having strings inside list\n",
    "# to convert liost into date time -\n",
    "# pd.to_datetime()"
   ]
  },
  {
   "cell_type": "code",
   "execution_count": 46,
   "id": "4d17c666",
   "metadata": {},
   "outputs": [
    {
     "data": {
      "text/plain": [
       "0   2012-12-02\n",
       "1   2015-12-21\n",
       "2   2016-01-01\n",
       "3   1996-07-04\n",
       "dtype: datetime64[ns]"
      ]
     },
     "execution_count": 46,
     "metadata": {},
     "output_type": "execute_result"
    }
   ],
   "source": [
    "pd.to_datetime(times)\n",
    "\n",
    "# converted them to Timestamp"
   ]
  },
  {
   "cell_type": "code",
   "execution_count": 47,
   "id": "34c4f23c",
   "metadata": {},
   "outputs": [
    {
     "data": {
      "text/plain": [
       "0    May 2nd, 1996\n",
       "1       10/04/1991\n",
       "2            Hello\n",
       "3       2015-02-31\n",
       "dtype: object"
      ]
     },
     "execution_count": 47,
     "metadata": {},
     "output_type": "execute_result"
    }
   ],
   "source": [
    "dates = pd.Series(['May 2nd, 1996','10/04/1991','Hello','2015-02-31'])\n",
    "dates"
   ]
  },
  {
   "cell_type": "markdown",
   "id": "7836a338",
   "metadata": {},
   "source": [
    "## Create Range of Date with the pd.date_range() Method"
   ]
  },
  {
   "cell_type": "code",
   "execution_count": 55,
   "id": "7778708e",
   "metadata": {},
   "outputs": [],
   "source": [
    "## it generates the automated dates with given ranges of the ranges \n",
    "\n",
    "times = pd.date_range(start='2016/01/01', end='2018/01/05',freq='D')"
   ]
  },
  {
   "cell_type": "code",
   "execution_count": 56,
   "id": "31028b66",
   "metadata": {},
   "outputs": [
    {
     "data": {
      "text/plain": [
       "pandas.core.indexes.datetimes.DatetimeIndex"
      ]
     },
     "execution_count": 56,
     "metadata": {},
     "output_type": "execute_result"
    }
   ],
   "source": [
    "type(times)"
   ]
  },
  {
   "cell_type": "code",
   "execution_count": 58,
   "id": "22413d80",
   "metadata": {},
   "outputs": [
    {
     "data": {
      "text/plain": [
       "pandas._libs.tslibs.timestamps.Timestamp"
      ]
     },
     "execution_count": 58,
     "metadata": {},
     "output_type": "execute_result"
    }
   ],
   "source": [
    "type(times[0])"
   ]
  },
  {
   "cell_type": "code",
   "execution_count": 60,
   "id": "4949570f",
   "metadata": {},
   "outputs": [
    {
     "data": {
      "text/plain": [
       "DatetimeIndex(['2016-01-01', '2016-01-02', '2016-01-03', '2016-01-04',\n",
       "               '2016-01-05', '2016-01-06', '2016-01-07', '2016-01-08',\n",
       "               '2016-01-09', '2016-01-10',\n",
       "               ...\n",
       "               '2017-12-27', '2017-12-28', '2017-12-29', '2017-12-30',\n",
       "               '2017-12-31', '2018-01-01', '2018-01-02', '2018-01-03',\n",
       "               '2018-01-04', '2018-01-05'],\n",
       "              dtype='datetime64[ns]', length=736, freq='D')"
      ]
     },
     "execution_count": 60,
     "metadata": {},
     "output_type": "execute_result"
    }
   ],
   "source": [
    "times = pd.date_range(start='2016/01/01', end='2018/01/05',freq='D')\n",
    "## freq = D is day\n",
    "times"
   ]
  },
  {
   "cell_type": "code",
   "execution_count": 63,
   "id": "28b868f5",
   "metadata": {},
   "outputs": [
    {
     "data": {
      "text/plain": [
       "DatetimeIndex(['2016-01-03', '2016-01-10', '2016-01-17', '2016-01-24',\n",
       "               '2016-01-31', '2016-02-07', '2016-02-14'],\n",
       "              dtype='datetime64[ns]', freq='W-SUN')"
      ]
     },
     "execution_count": 63,
     "metadata": {},
     "output_type": "execute_result"
    }
   ],
   "source": [
    "times = pd.date_range(start='2016/01/01', end='2016/02/15',freq='W')\n",
    "times\n",
    "## freq = 'w' --> it will return the one week ranges of dates "
   ]
  },
  {
   "cell_type": "code",
   "execution_count": 65,
   "id": "3370d8ed",
   "metadata": {},
   "outputs": [
    {
     "data": {
      "text/plain": [
       "DatetimeIndex(['2016-01-01 00:00:00', '2016-01-01 00:00:01',\n",
       "               '2016-01-01 00:00:02', '2016-01-01 00:00:03',\n",
       "               '2016-01-01 00:00:04', '2016-01-01 00:00:05',\n",
       "               '2016-01-01 00:00:06', '2016-01-01 00:00:07',\n",
       "               '2016-01-01 00:00:08', '2016-01-01 00:00:09',\n",
       "               ...\n",
       "               '2016-02-14 23:59:51', '2016-02-14 23:59:52',\n",
       "               '2016-02-14 23:59:53', '2016-02-14 23:59:54',\n",
       "               '2016-02-14 23:59:55', '2016-02-14 23:59:56',\n",
       "               '2016-02-14 23:59:57', '2016-02-14 23:59:58',\n",
       "               '2016-02-14 23:59:59', '2016-02-15 00:00:00'],\n",
       "              dtype='datetime64[ns]', length=3888001, freq='S')"
      ]
     },
     "execution_count": 65,
     "metadata": {},
     "output_type": "execute_result"
    }
   ],
   "source": [
    "times = pd.date_range(start='2016/01/01', end='2016/02/15',freq='s')\n",
    "#s--> seconds \n",
    "times"
   ]
  },
  {
   "cell_type": "markdown",
   "id": "6f07dd68",
   "metadata": {},
   "source": [
    "## part - 2"
   ]
  },
  {
   "cell_type": "code",
   "execution_count": 66,
   "id": "ca0e01ae",
   "metadata": {},
   "outputs": [
    {
     "data": {
      "text/plain": [
       "DatetimeIndex(['2012-09-09', '2012-09-10', '2012-09-11', '2012-09-12',\n",
       "               '2012-09-13', '2012-09-14', '2012-09-15', '2012-09-16',\n",
       "               '2012-09-17', '2012-09-18', '2012-09-19', '2012-09-20',\n",
       "               '2012-09-21', '2012-09-22', '2012-09-23', '2012-09-24',\n",
       "               '2012-09-25', '2012-09-26', '2012-09-27', '2012-09-28',\n",
       "               '2012-09-29', '2012-09-30', '2012-10-01', '2012-10-02',\n",
       "               '2012-10-03'],\n",
       "              dtype='datetime64[ns]', freq='D')"
      ]
     },
     "execution_count": 66,
     "metadata": {},
     "output_type": "execute_result"
    }
   ],
   "source": [
    "pd.date_range(start='2012/09/09',periods=25,freq='D')\n",
    "\n",
    "# period will going to specify how many values we want \n",
    "\n",
    "# retrived the 25 days range starting from 2012/09/09"
   ]
  },
  {
   "cell_type": "code",
   "execution_count": 67,
   "id": "02331cf2",
   "metadata": {},
   "outputs": [
    {
     "data": {
      "text/plain": [
       "DatetimeIndex(['2012-09-10', '2012-09-11', '2012-09-12', '2012-09-13',\n",
       "               '2012-09-14', '2012-09-17', '2012-09-18', '2012-09-19',\n",
       "               '2012-09-20', '2012-09-21', '2012-09-24', '2012-09-25',\n",
       "               '2012-09-26', '2012-09-27', '2012-09-28', '2012-10-01',\n",
       "               '2012-10-02', '2012-10-03', '2012-10-04', '2012-10-05',\n",
       "               '2012-10-08', '2012-10-09', '2012-10-10', '2012-10-11',\n",
       "               '2012-10-12'],\n",
       "              dtype='datetime64[ns]', freq='B')"
      ]
     },
     "execution_count": 67,
     "metadata": {},
     "output_type": "execute_result"
    }
   ],
   "source": [
    "pd.date_range(start='2012/09/09',periods=25,freq='B')\n",
    "\n",
    "## Business days "
   ]
  },
  {
   "cell_type": "code",
   "execution_count": 69,
   "id": "b1c5b153",
   "metadata": {},
   "outputs": [
    {
     "data": {
      "text/plain": [
       "DatetimeIndex(['2012-09-11', '2012-09-18', '2012-09-25', '2012-10-02',\n",
       "               '2012-10-09', '2012-10-16', '2012-10-23', '2012-10-30',\n",
       "               '2012-11-06', '2012-11-13', '2012-11-20', '2012-11-27',\n",
       "               '2012-12-04', '2012-12-11', '2012-12-18', '2012-12-25',\n",
       "               '2013-01-01', '2013-01-08', '2013-01-15', '2013-01-22',\n",
       "               '2013-01-29', '2013-02-05', '2013-02-12', '2013-02-19',\n",
       "               '2013-02-26'],\n",
       "              dtype='datetime64[ns]', freq='W-TUE')"
      ]
     },
     "execution_count": 69,
     "metadata": {},
     "output_type": "execute_result"
    }
   ],
   "source": [
    "pd.date_range(start='2012/09/09',periods=25,freq='W-TUE')\n",
    "\n",
    "# weekdays\n",
    "# start at tuesday"
   ]
  },
  {
   "cell_type": "markdown",
   "id": "022e244b",
   "metadata": {},
   "source": [
    "## Part -3 "
   ]
  },
  {
   "cell_type": "code",
   "execution_count": 70,
   "id": "278a196c",
   "metadata": {},
   "outputs": [
    {
     "data": {
      "text/plain": [
       "DatetimeIndex(['1995-07-23', '1995-07-30', '1995-08-06', '1995-08-13',\n",
       "               '1995-08-20', '1995-08-27', '1995-09-03', '1995-09-10',\n",
       "               '1995-09-17', '1995-09-24', '1995-10-01', '1995-10-08',\n",
       "               '1995-10-15', '1995-10-22', '1995-10-29', '1995-11-05',\n",
       "               '1995-11-12', '1995-11-19', '1995-11-26', '1995-12-03',\n",
       "               '1995-12-10', '1995-12-17', '1995-12-24', '1995-12-31',\n",
       "               '1996-01-07'],\n",
       "              dtype='datetime64[ns]', freq='W-SUN')"
      ]
     },
     "execution_count": 70,
     "metadata": {},
     "output_type": "execute_result"
    }
   ],
   "source": [
    "  pd.date_range(end='1996/01/08',periods=25,freq='W')\n",
    "    \n",
    "    # here it is not starting from, it is strted from end point getting back from end point to start days by one week ranges"
   ]
  },
  {
   "cell_type": "markdown",
   "id": "fcc36c1f",
   "metadata": {},
   "source": [
    "## The .dt Accessor"
   ]
  },
  {
   "cell_type": "code",
   "execution_count": 3,
   "id": "ee450e29",
   "metadata": {},
   "outputs": [],
   "source": [
    "import pandas as pd\n",
    "import datetime as dt"
   ]
  },
  {
   "cell_type": "code",
   "execution_count": 4,
   "id": "0d6ddd50",
   "metadata": {},
   "outputs": [],
   "source": [
    "dates = pd.date_range(start='2010/01/01',end='2020/12/31',freq='24D')"
   ]
  },
  {
   "cell_type": "code",
   "execution_count": 5,
   "id": "9873fc48",
   "metadata": {},
   "outputs": [
    {
     "data": {
      "text/plain": [
       "0   2010-01-01\n",
       "1   2010-01-25\n",
       "2   2010-02-18\n",
       "3   2010-03-14\n",
       "4   2010-04-07\n",
       "dtype: datetime64[ns]"
      ]
     },
     "execution_count": 5,
     "metadata": {},
     "output_type": "execute_result"
    }
   ],
   "source": [
    "s = pd.Series(dates)\n",
    "s.head()"
   ]
  },
  {
   "cell_type": "code",
   "execution_count": 6,
   "id": "3e31cb20",
   "metadata": {},
   "outputs": [
    {
     "data": {
      "text/plain": [
       "0     1\n",
       "1    25\n",
       "2    18\n",
       "3    14\n",
       "4     7\n",
       "dtype: int64"
      ]
     },
     "execution_count": 6,
     "metadata": {},
     "output_type": "execute_result"
    }
   ],
   "source": [
    "s.dt.day.head()\n",
    "\n",
    "# return the day"
   ]
  },
  {
   "cell_type": "code",
   "execution_count": 7,
   "id": "461ece5a",
   "metadata": {},
   "outputs": [
    {
     "data": {
      "text/plain": [
       "0       1\n",
       "1       1\n",
       "2       2\n",
       "3       3\n",
       "4       4\n",
       "       ..\n",
       "163     9\n",
       "164    10\n",
       "165    11\n",
       "166    11\n",
       "167    12\n",
       "Length: 168, dtype: int64"
      ]
     },
     "execution_count": 7,
     "metadata": {},
     "output_type": "execute_result"
    }
   ],
   "source": [
    "s.dt.month"
   ]
  },
  {
   "cell_type": "code",
   "execution_count": 8,
   "id": "df7b8112",
   "metadata": {},
   "outputs": [
    {
     "data": {
      "text/plain": [
       "0    2010-01-01\n",
       "38   2012-07-01\n",
       "dtype: datetime64[ns]"
      ]
     },
     "execution_count": 8,
     "metadata": {},
     "output_type": "execute_result"
    }
   ],
   "source": [
    "mask = s.dt.is_quarter_start\n",
    "s[mask]\n",
    "\n",
    "# these are the start of the quaters"
   ]
  },
  {
   "cell_type": "code",
   "execution_count": 9,
   "id": "8a9aa7d9",
   "metadata": {},
   "outputs": [
    {
     "data": {
      "text/plain": [
       "0     2010-01-01\n",
       "5     2010-05-01\n",
       "38    2012-07-01\n",
       "71    2014-09-01\n",
       "90    2015-12-01\n",
       "104   2016-11-01\n",
       "109   2017-03-01\n",
       "dtype: datetime64[ns]"
      ]
     },
     "execution_count": 9,
     "metadata": {},
     "output_type": "execute_result"
    }
   ],
   "source": [
    "mask1 = s.dt.is_month_start\n",
    "s[mask1]"
   ]
  },
  {
   "cell_type": "code",
   "execution_count": null,
   "id": "0a946b64",
   "metadata": {},
   "outputs": [],
   "source": []
  },
  {
   "cell_type": "code",
   "execution_count": null,
   "id": "9bf74a5e",
   "metadata": {},
   "outputs": [],
   "source": []
  }
 ],
 "metadata": {
  "kernelspec": {
   "display_name": "Python 3 (ipykernel)",
   "language": "python",
   "name": "python3"
  },
  "language_info": {
   "codemirror_mode": {
    "name": "ipython",
    "version": 3
   },
   "file_extension": ".py",
   "mimetype": "text/x-python",
   "name": "python",
   "nbconvert_exporter": "python",
   "pygments_lexer": "ipython3",
   "version": "3.9.12"
  }
 },
 "nbformat": 4,
 "nbformat_minor": 5
}
